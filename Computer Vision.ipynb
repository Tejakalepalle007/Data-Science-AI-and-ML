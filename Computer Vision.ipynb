{
  "nbformat": 4,
  "nbformat_minor": 0,
  "metadata": {
    "colab": {
      "name": "Untitled5.ipynb",
      "provenance": [],
      "authorship_tag": "ABX9TyOPG1aQ6H4NnTtt4apZcTG6",
      "include_colab_link": true
    },
    "kernelspec": {
      "name": "python3",
      "display_name": "Python 3"
    },
    "language_info": {
      "name": "python"
    }
  },
  "cells": [
    {
      "cell_type": "markdown",
      "metadata": {
        "id": "view-in-github",
        "colab_type": "text"
      },
      "source": [
        "<a href=\"https://colab.research.google.com/github/Tejakalepalle007/Data-Science-AI-and-ML/blob/main/Computer%20Vision.ipynb\" target=\"_parent\"><img src=\"https://colab.research.google.com/assets/colab-badge.svg\" alt=\"Open In Colab\"/></a>"
      ]
    },
    {
      "cell_type": "code",
      "metadata": {
        "id": "7cqgWkfkQSw3"
      },
      "source": [
        "# Text data(One hot coding and word embedding)\n",
        "#One hot coding used to convert the categorical values \n",
        "#step 1 : Data preprocessing"
      ],
      "execution_count": null,
      "outputs": []
    }
  ]
}